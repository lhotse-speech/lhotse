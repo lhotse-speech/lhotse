{
 "cells": [
  {
   "cell_type": "code",
   "execution_count": 1,
   "id": "4966b868",
   "metadata": {},
   "outputs": [],
   "source": [
    "from pathlib import Path\n",
    "\n",
    "from speechcolab.datasets.gigaspeech import GigaSpeech\n",
    "\n",
    "from lhotse.recipes.gigaspeech import prepare_gigaspeech"
   ]
  },
  {
   "cell_type": "markdown",
   "id": "aee0dfca",
   "metadata": {},
   "source": [
    "# Select data parts"
   ]
  },
  {
   "cell_type": "code",
   "execution_count": 2,
   "id": "19968006",
   "metadata": {},
   "outputs": [],
   "source": [
    "dataset_parts = ('{XS}', '{TEST}')"
   ]
  },
  {
   "cell_type": "markdown",
   "id": "09953929",
   "metadata": {},
   "source": [
    "# Settings for paths"
   ]
  },
  {
   "cell_type": "code",
   "execution_count": 3,
   "id": "32a62cbd",
   "metadata": {},
   "outputs": [],
   "source": [
    "root_dir = Path('data')\n",
    "corpus_dir = root_dir / 'GigaSpeech'\n",
    "output_dir = root_dir / 'gigaspeech_nb'"
   ]
  },
  {
   "cell_type": "markdown",
   "id": "6e36c2ac",
   "metadata": {},
   "source": [
    "# Select data parts"
   ]
  },
  {
   "cell_type": "code",
   "execution_count": 4,
   "id": "0f297483",
   "metadata": {},
   "outputs": [],
   "source": [
    "dataset_parts = ('{XS}', '{TEST}')"
   ]
  },
  {
   "cell_type": "markdown",
   "id": "76f540f5",
   "metadata": {},
   "source": [
    "# Download the data"
   ]
  },
  {
   "cell_type": "code",
   "execution_count": 5,
   "id": "4a92aed6",
   "metadata": {},
   "outputs": [],
   "source": [
    "gigaspeech = GigaSpeech(corpus_dir)"
   ]
  },
  {
   "cell_type": "code",
   "execution_count": 6,
   "id": "b5649222",
   "metadata": {},
   "outputs": [],
   "source": [
    "for part in dataset_parts:\n",
    "    # TODO: remove this try-except block in the stable version\n",
    "    try:\n",
    "        gigaspeech.download(part)\n",
    "    except NotImplementedError:\n",
    "        assert gigaspeech.json_path.is_file()"
   ]
  },
  {
   "cell_type": "markdown",
   "id": "52f5b7b7",
   "metadata": {},
   "source": [
    "# Prepare audio and supervision manifests"
   ]
  },
  {
   "cell_type": "code",
   "execution_count": 7,
   "id": "f513389d",
   "metadata": {},
   "outputs": [],
   "source": [
    "gigaspeech_manifests_train = prepare_gigaspeech(gigaspeech, dataset_parts, output_dir)"
   ]
  },
  {
   "cell_type": "code",
   "execution_count": 8,
   "id": "65d8c7c1",
   "metadata": {},
   "outputs": [
    {
     "data": {
      "text/plain": [
       "{'{XS}': {'recordings': RecordingSet(len=79),\n",
       "  'supervisions': SupervisionSet(len=15304)},\n",
       " '{TEST}': {'recordings': RecordingSet(len=131),\n",
       "  'supervisions': SupervisionSet(len=25619)}}"
      ]
     },
     "execution_count": 8,
     "metadata": {},
     "output_type": "execute_result"
    }
   ],
   "source": [
    "gigaspeech_manifests_train"
   ]
  }
 ],
 "metadata": {
  "kernelspec": {
   "display_name": "Python 3",
   "language": "python",
   "name": "python3"
  },
  "language_info": {
   "codemirror_mode": {
    "name": "ipython",
    "version": 3
   },
   "file_extension": ".py",
   "mimetype": "text/x-python",
   "name": "python",
   "nbconvert_exporter": "python",
   "pygments_lexer": "ipython3",
   "version": "3.9.4"
  }
 },
 "nbformat": 4,
 "nbformat_minor": 5
}
