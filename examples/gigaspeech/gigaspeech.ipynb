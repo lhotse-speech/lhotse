{
 "cells": [
  {
   "cell_type": "code",
   "execution_count": 1,
   "id": "4966b868",
   "metadata": {},
   "outputs": [],
   "source": [
    "import os\n",
    "from concurrent.futures import ProcessPoolExecutor\n",
    "from pathlib import Path\n",
    "\n",
    "from speechcolab.datasets.gigaspeech import GigaSpeech\n",
    "\n",
    "from lhotse import CutSet, Fbank, LilcomFilesWriter\n",
    "from lhotse.augmentation import SoxEffectTransform, RandomValue, pitch, reverb, speed\n",
    "from lhotse.recipes.gigaspeech import prepare_gigaspeech"
   ]
  },
  {
   "cell_type": "markdown",
   "id": "aee0dfca",
   "metadata": {},
   "source": [
    "# Select data parts"
   ]
  },
  {
   "cell_type": "code",
   "execution_count": 2,
   "id": "19968006",
   "metadata": {},
   "outputs": [],
   "source": [
    "dataset_parts = ('{XS}', '{TEST}')"
   ]
  },
  {
   "cell_type": "markdown",
   "id": "09953929",
   "metadata": {},
   "source": [
    "# Settings for paths"
   ]
  },
  {
   "cell_type": "code",
   "execution_count": 3,
   "id": "32a62cbd",
   "metadata": {},
   "outputs": [],
   "source": [
    "root_dir = Path('data')\n",
    "corpus_dir = root_dir / 'GigaSpeech'\n",
    "output_dir = root_dir / 'gigaspeech_nb'"
   ]
  },
  {
   "cell_type": "markdown",
   "id": "6e36c2ac",
   "metadata": {},
   "source": [
    "# Select data parts"
   ]
  },
  {
   "cell_type": "code",
   "execution_count": 4,
   "id": "0f297483",
   "metadata": {},
   "outputs": [],
   "source": [
    "dataset_parts = ('{XS}', '{TEST}')"
   ]
  },
  {
   "cell_type": "markdown",
   "id": "76f540f5",
   "metadata": {},
   "source": [
    "# Download the data"
   ]
  },
  {
   "cell_type": "code",
   "execution_count": 5,
   "id": "4a92aed6",
   "metadata": {},
   "outputs": [],
   "source": [
    "gigaspeech = GigaSpeech(corpus_dir)"
   ]
  },
  {
   "cell_type": "code",
   "execution_count": 6,
   "id": "b5649222",
   "metadata": {},
   "outputs": [],
   "source": [
    "for part in dataset_parts:\n",
    "    # TODO: remove this try-except block in the stable version\n",
    "    try:\n",
    "        gigaspeech.download(part)\n",
    "    except NotImplementedError:\n",
    "        assert gigaspeech.json_path.is_file()"
   ]
  },
  {
   "cell_type": "markdown",
   "id": "52f5b7b7",
   "metadata": {},
   "source": [
    "# Prepare audio and supervision manifests"
   ]
  },
  {
   "cell_type": "code",
   "execution_count": 7,
   "id": "74f439b9",
   "metadata": {},
   "outputs": [],
   "source": [
    "num_jobs = os.cpu_count()"
   ]
  },
  {
   "cell_type": "code",
   "execution_count": 8,
   "id": "f513389d",
   "metadata": {
    "scrolled": true
   },
   "outputs": [],
   "source": [
    "gigaspeech_manifests = prepare_gigaspeech(gigaspeech, dataset_parts, output_dir, num_jobs=num_jobs)"
   ]
  },
  {
   "cell_type": "code",
   "execution_count": 9,
   "id": "65d8c7c1",
   "metadata": {
    "scrolled": true
   },
   "outputs": [
    {
     "data": {
      "text/plain": [
       "{'{XS}': {'recordings': RecordingSet(len=79),\n",
       "  'supervisions': SupervisionSet(len=15304)},\n",
       " '{TEST}': {'recordings': RecordingSet(len=131),\n",
       "  'supervisions': SupervisionSet(len=25619)}}"
      ]
     },
     "execution_count": 9,
     "metadata": {},
     "output_type": "execute_result"
    }
   ],
   "source": [
    "gigaspeech_manifests"
   ]
  },
  {
   "cell_type": "markdown",
   "id": "e41bc80a",
   "metadata": {},
   "source": [
    "# [Optional] Data augmentation"
   ]
  },
  {
   "cell_type": "code",
   "execution_count": 10,
   "id": "a0d04363",
   "metadata": {},
   "outputs": [],
   "source": [
    "use_data_augmentation = False\n",
    "augment_fn = SoxEffectTransform(effects=[\n",
    "   ['reverb', 50, 50, RandomValue(0, 100)],\n",
    "   ['remix', '-'],  # Merge all channels (reverb changes mono to stereo)\n",
    "   ['rate', 16000],\n",
    "]) if use_data_augmentation else None"
   ]
  },
  {
   "cell_type": "markdown",
   "id": "da3bbf2d",
   "metadata": {},
   "source": [
    "# Extract features"
   ]
  },
  {
   "cell_type": "code",
   "execution_count": null,
   "id": "52d251f4",
   "metadata": {},
   "outputs": [],
   "source": [
    "for partition, manifests in gigaspeech_manifests.items():\n",
    "    manifest_path = output_dir / f'cuts_{partition}.json.gz'\n",
    "    if not manifest_path.is_file():\n",
    "        with ProcessPoolExecutor(num_jobs) as ex:\n",
    "            cut_set = CutSet.from_manifests(\n",
    "                recordings=manifests['recordings'],\n",
    "                supervisions=manifests['supervisions']\n",
    "            )\n",
    "            if use_data_augmentation:\n",
    "                cut_set = cut_set + cut_set.perturb_speed(0.9) + cut_set.perturb_speed(1.1)\n",
    "            cut_set = cut_set.compute_and_store_features(\n",
    "                extractor=Fbank(),\n",
    "                storage_path=f'{output_dir}/feats_{partition}',\n",
    "                storage_type=LilcomFilesWriter,\n",
    "                augment_fn=augment_fn,\n",
    "                num_jobs=num_jobs,\n",
    "                executor=ex\n",
    "            )\n",
    "        gigaspeech_manifests[partition]['cuts'] = cut_set\n",
    "        cut_set.to_json(manifest_path)\n",
    "    gigaspeech_manifests[partition] = CutSet.from_json(manifest_path)"
   ]
  }
 ],
 "metadata": {
  "kernelspec": {
   "display_name": "Python 3",
   "language": "python",
   "name": "python3"
  },
  "language_info": {
   "codemirror_mode": {
    "name": "ipython",
    "version": 3
   },
   "file_extension": ".py",
   "mimetype": "text/x-python",
   "name": "python",
   "nbconvert_exporter": "python",
   "pygments_lexer": "ipython3",
   "version": "3.9.4"
  }
 },
 "nbformat": 4,
 "nbformat_minor": 5
}
