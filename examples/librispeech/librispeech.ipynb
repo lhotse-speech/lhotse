{
 "cells": [
  {
   "cell_type": "code",
   "execution_count": 1,
   "metadata": {},
   "outputs": [],
   "source": [
    "import os\n",
    "from concurrent.futures import ProcessPoolExecutor\n",
    "from pathlib import Path\n",
    "\n",
    "import matplotlib.pyplot as plt\n",
    "import torch\n",
    "\n",
    "from lhotse import CutSet, Fbank, LilcomFilesWriter\n",
    "from lhotse.augmentation import SoxEffectTransform, RandomValue, pitch, reverb, speed\n",
    "from lhotse.dataset import K2SpeechRecognitionDataset\n",
    "from lhotse.dataset.sampling import SingleCutSampler\n",
    "from lhotse.recipes.librispeech import download_librispeech, prepare_librispeech"
   ]
  },
  {
   "cell_type": "markdown",
   "metadata": {},
   "source": [
    "# Settings for paths"
   ]
  },
  {
   "cell_type": "code",
   "execution_count": 2,
   "metadata": {},
   "outputs": [],
   "source": [
    "root_dir = Path('data')\n",
    "corpus_dir = root_dir / 'LibriSpeech'\n",
    "output_dir = root_dir / 'librispeech_nb'"
   ]
  },
  {
   "cell_type": "markdown",
   "metadata": {},
   "source": [
    "# Select data parts"
   ]
  },
  {
   "cell_type": "code",
   "execution_count": 3,
   "metadata": {},
   "outputs": [],
   "source": [
    "dataset_parts = ('dev-clean', 'test-clean', 'train-clean-100')"
   ]
  },
  {
   "cell_type": "markdown",
   "metadata": {},
   "source": [
    "# Download and untar"
   ]
  },
  {
   "cell_type": "code",
   "execution_count": 4,
   "metadata": {},
   "outputs": [],
   "source": [
    "download_librispeech(root_dir, dataset_parts)"
   ]
  },
  {
   "cell_type": "markdown",
   "metadata": {},
   "source": [
    "# Prepare audio and supervision manifests"
   ]
  },
  {
   "cell_type": "code",
   "execution_count": 4,
   "metadata": {},
   "outputs": [],
   "source": [
    "num_jobs = os.cpu_count()"
   ]
  },
  {
   "cell_type": "code",
   "execution_count": 5,
   "metadata": {},
   "outputs": [],
   "source": [
    "librispeech_manifests = prepare_librispeech(corpus_dir, dataset_parts, output_dir, num_jobs=num_jobs)"
   ]
  },
  {
   "cell_type": "markdown",
   "metadata": {},
   "source": [
    "# [Optional] Data augmentation"
   ]
  },
  {
   "cell_type": "code",
   "execution_count": 6,
   "metadata": {},
   "outputs": [],
   "source": [
    "use_data_augmentation = False\n",
    "augment_fn = SoxEffectTransform(effects=[\n",
    "   ['reverb', 50, 50, RandomValue(0, 100)],\n",
    "   ['speed', RandomValue(0.9, 1.1)],\n",
    "   ['rate', 16000],\n",
    "]) if use_data_augmentation else None"
   ]
  },
  {
   "cell_type": "markdown",
   "metadata": {},
   "source": [
    "# Extract features"
   ]
  },
  {
   "cell_type": "code",
   "execution_count": 7,
   "metadata": {},
   "outputs": [],
   "source": [
    "for partition, manifests in librispeech_manifests.items():\n",
    "    manifest_path = output_dir / f'cuts_{partition}.json.gz'\n",
    "    if manifest_path.is_file():\n",
    "        librispeech_manifests[partition] = CutSet.from_json(manifest_path)\n",
    "    else:\n",
    "        with ProcessPoolExecutor(num_jobs) as ex:\n",
    "            cut_set = CutSet.from_manifests(\n",
    "                recordings=manifests['recordings'],\n",
    "                supervisions=manifests['supervisions']\n",
    "            ).compute_and_store_features(\n",
    "                extractor=Fbank(),\n",
    "                storage_path=f'{output_dir}/feats_{partition}',\n",
    "                storage_type=LilcomFilesWriter,\n",
    "                augment_fn=augment_fn,\n",
    "                executor=ex\n",
    "            ).pad()\n",
    "        librispeech_manifests[partition]['cuts'] = cut_set\n",
    "        cut_set.to_json(manifest_path)"
   ]
  },
  {
   "cell_type": "markdown",
   "metadata": {},
   "source": [
    "# Make PyTorch Dataset"
   ]
  },
  {
   "cell_type": "code",
   "execution_count": 8,
   "metadata": {},
   "outputs": [],
   "source": [
    "cutset_dev = librispeech_manifests['dev-clean']\n",
    "cutset_train = librispeech_manifests['train-clean-100']"
   ]
  },
  {
   "cell_type": "code",
   "execution_count": 9,
   "metadata": {},
   "outputs": [],
   "source": [
    "dataset_dev = K2SpeechRecognitionDataset(cutset_dev)\n",
    "dataset_train = K2SpeechRecognitionDataset(cutset_train)"
   ]
  },
  {
   "cell_type": "markdown",
   "metadata": {},
   "source": [
    "# Illustration of an example"
   ]
  },
  {
   "cell_type": "code",
   "execution_count": 10,
   "metadata": {},
   "outputs": [],
   "source": [
    "sampler = SingleCutSampler(cutset_dev, shuffle=False, max_samples=16)\n",
    "cut_ids = next(iter(sampler))\n",
    "sample = dataset_dev[cut_ids]"
   ]
  },
  {
   "cell_type": "code",
   "execution_count": 11,
   "metadata": {
    "scrolled": false
   },
   "outputs": [
    {
     "name": "stdout",
     "output_type": "stream",
     "text": [
      "Transcript: HAD LAID BEFORE HER A PAIR OF ALTERNATIVES NOW OF COURSE YOU'RE COMPLETELY YOUR OWN MISTRESS AND ARE AS FREE AS THE BIRD ON THE BOUGH I DON'T MEAN YOU WERE NOT SO BEFORE BUT YOU'RE AT PRESENT ON A DIFFERENT FOOTING\n",
      "Supervisions mask: tensor([1., 1., 1.,  ..., 0., 0., 0.])\n",
      "Feature matrix:\n"
     ]
    },
    {
     "data": {
      "image/png": "[encoded data removed]",
      "text/plain": [
       "<Figure size 1152x144 with 1 Axes>"
      ]
     },
     "metadata": {
      "needs_background": "light"
     },
     "output_type": "display_data"
    }
   ],
   "source": [
    "print('Transcript:', sample['supervisions']['text'][0])\n",
    "print('Supervisions start frame:', int(sample['supervisions']['start_frame'][0]))\n",
    "print('Supervisions frame number:', int(sample['supervisions']['num_frames'][0]))\n",
    "print('Feature matrix:')\n",
    "plt.matshow(sample['inputs'].reshape([sample['inputs'].shape[1], -1]).transpose(0, 1).flip(0));"
   ]
  },
  {
   "cell_type": "markdown",
   "metadata": {},
   "source": [
    "# Make PyTorch Dataloader"
   ]
  },
  {
   "cell_type": "code",
   "execution_count": 12,
   "metadata": {},
   "outputs": [],
   "source": [
    "train_dl = torch.utils.data.DataLoader(dataset_train, batch_size=32, shuffle=True)\n",
    "dev_dl = torch.utils.data.DataLoader(dataset_dev, batch_size=None, sampler=sampler)"
   ]
  },
  {
   "cell_type": "code",
   "execution_count": 13,
   "metadata": {},
   "outputs": [
    {
     "name": "stdout",
     "output_type": "stream",
     "text": [
      "inputs - shape or length: torch.Size([1, 3170, 40])\n",
      "supervisions - shape or length: 4\n"
     ]
    }
   ],
   "source": [
    "for batch in dev_dl:\n",
    "    for key, value in batch.items():\n",
    "        print(key, '- shape or length:', end=' ')\n",
    "        if isinstance(value, torch.Tensor):\n",
    "            print(value.shape)\n",
    "        else:\n",
    "            print(len(value))\n",
    "    break"
   ]
  }
 ],
 "metadata": {
  "kernelspec": {
   "display_name": "Python 3",
   "language": "python",
   "name": "python3"
  },
  "language_info": {
   "codemirror_mode": {
    "name": "ipython",
    "version": 3
   },
   "file_extension": ".py",
   "mimetype": "text/x-python",
   "name": "python",
   "nbconvert_exporter": "python",
   "pygments_lexer": "ipython3",
   "version": "3.9.2"
  }
 },
 "nbformat": 4,
 "nbformat_minor": 4
}
